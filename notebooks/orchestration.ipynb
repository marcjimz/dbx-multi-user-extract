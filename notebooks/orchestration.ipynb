{
 "cells": [
  {
   "cell_type": "code",
   "execution_count": 0,
   "metadata": {
    "application/vnd.databricks.v1+cell": {
     "cellMetadata": {
      "byteLimit": 2048000,
      "rowLimit": 10000
     },
     "inputWidgets": {},
     "nuid": "00c5f8f9-4773-4633-9f1b-c7d95e977d59",
     "showTitle": false,
     "tableResultSettingsMap": {},
     "title": ""
    }
   },
   "outputs": [],
   "source": [
    "dbutils.library.restartPython() "
   ]
  },
  {
   "cell_type": "code",
   "execution_count": 0,
   "metadata": {
    "application/vnd.databricks.v1+cell": {
     "cellMetadata": {
      "byteLimit": 2048000,
      "rowLimit": 10000
     },
     "inputWidgets": {},
     "nuid": "6a2b8b59-ad8e-4603-8a20-33ccf1810a5f",
     "showTitle": false,
     "tableResultSettingsMap": {},
     "title": ""
    }
   },
   "outputs": [],
   "source": [
    "import requests\n",
    "import json\n",
    "import time\n",
    "from typing import Dict, Any, List\n",
    "from datetime import datetime\n",
    "import pandas as pd\n",
    "\n",
    "# Configure notebook widgets for parameters\n",
    "dbutils.widgets.removeAll()\n",
    "dbutils.widgets.text(\"pat_token\", \"\", \"Personal Access Token\")\n",
    "dbutils.widgets.text(\"catalog_name\", \"security_demo\", \"Catalog Name\")\n",
    "dbutils.widgets.text(\"schema_name\", \"orders_data\", \"Schema Name\")\n",
    "\n",
    "dbutils.widgets.text(\"app_sp_client_id\", \"\", \"Entra ID App Client ID\")\n",
    "dbutils.widgets.text(\"app_sp_client_secret\", \"\", \"Entra ID App Client Secret\")\n",
    "dbutils.widgets.text(\"app_sp_tenant_id\", \"\", \"Azure Tenant ID\")\n",
    "dbutils.widgets.text(\"app_sp_display_name\", \"marcin-sp-app-orchestrator\", \"App SP Display Name\")\n",
    "\n",
    "# Get widget values\n",
    "pat_token = dbutils.widgets.get(\"pat_token\")\n",
    "catalog_name = dbutils.widgets.get(\"catalog_name\")\n",
    "schema_name = dbutils.widgets.get(\"schema_name\")\n",
    "\n",
    "# Get Entra ID SP credentials\n",
    "app_sp_client_id = dbutils.widgets.get(\"app_sp_client_id\")\n",
    "app_sp_client_secret = dbutils.widgets.get(\"app_sp_client_secret\")\n",
    "app_sp_tenant_id = dbutils.widgets.get(\"app_sp_tenant_id\")\n",
    "app_sp_display_name = dbutils.widgets.get(\"app_sp_display_name\")\n",
    "\n",
    "# Get workspace URL from notebook context\n",
    "workspace_url = spark.conf.get(\"spark.databricks.workspaceUrl\")\n",
    "if not workspace_url.startswith(\"https://\"):\n",
    "    workspace_url = f\"https://{workspace_url}\"\n",
    "\n",
    "# Validate inputs\n",
    "if not pat_token:\n",
    "    raise ValueError(\"Please provide pat_token through widget\")\n",
    "\n",
    "print(f\"✅ Configuration loaded\")\n",
    "print(f\"   Workspace: {workspace_url}\")\n",
    "print(f\"   Catalog: {catalog_name}\")\n",
    "print(f\"   Schema: {schema_name}\")"
   ]
  },
  {
   "cell_type": "markdown",
   "metadata": {
    "application/vnd.databricks.v1+cell": {
     "cellMetadata": {},
     "inputWidgets": {},
     "nuid": "df2c19f1-27e8-4923-ba24-37e070f214da",
     "showTitle": false,
     "tableResultSettingsMap": {},
     "title": ""
    }
   },
   "source": [
    "\n",
    "## 1. Register Entra ID SP in Databricks"
   ]
  },
  {
   "cell_type": "code",
   "execution_count": 0,
   "metadata": {
    "application/vnd.databricks.v1+cell": {
     "cellMetadata": {
      "byteLimit": 2048000,
      "rowLimit": 10000
     },
     "inputWidgets": {},
     "nuid": "7cda1ba1-2a54-4656-9840-437a5cc20540",
     "showTitle": false,
     "tableResultSettingsMap": {},
     "title": ""
    }
   },
   "outputs": [],
   "source": [
    "from entra_sp_manager import EntraIDServicePrincipalManager\n",
    "\n",
    "try:\n",
    "    # Initialize the Entra ID manager\n",
    "    entra_manager = EntraIDServicePrincipalManager(workspace_url, pat_token)\n",
    "    \n",
    "    # Register the SP in the workspace\n",
    "    print(f\"\\n📝 Registering Entra ID SP in Databricks workspace...\")\n",
    "    app_sp = entra_manager.register_sp_in_workspace(\n",
    "        client_id=app_sp_client_id,\n",
    "        display_name=app_sp_display_name\n",
    "    )\n",
    "    \n",
    "    if app_sp:\n",
    "        print(f\"\\n✅ Entra ID SP successfully registered:\")\n",
    "        print(f\"   - Display Name: {app_sp.get('displayName')}\")\n",
    "        print(f\"   - Application ID: {app_sp.get('applicationId')}\")\n",
    "        print(f\"   - Databricks ID: {app_sp.get('id')}\")\n",
    "        \n",
    "        # Get OAuth token for the SP to use for API calls\n",
    "        print(f\"\\n🔑 Obtaining OAuth token for SP authentication...\")\n",
    "        app_sp_token = entra_manager.get_oauth_token(\n",
    "            tenant_id=app_sp_tenant_id,\n",
    "            client_id=app_sp_client_id,\n",
    "            client_secret=app_sp_client_secret\n",
    "        )\n",
    "        \n",
    "        if app_sp_token:\n",
    "            print(f\"✅ OAuth token obtained - jobs will be created BY the Entra ID SP\")\n",
    "            print(f\"   Jobs will show '{app_sp.get('displayName')}' as the creator\")\n",
    "        else:\n",
    "            print(f\"⚠️  Could not get OAuth token - jobs will be created by current user\")\n",
    "            print(f\"   Check your Entra ID credentials and permissions\")\n",
    "    else:\n",
    "        print(f\"❌ Failed to register Entra ID SP in workspace\")\n",
    "        print(f\"   Continuing with current user authentication...\")\n",
    "    \n",
    "except Exception as e:\n",
    "    print(f\"❌ Error during Entra ID SP setup: {e}\")\n",
    "    print(f\"   Continuing with current user authentication...\")\n",
    "    app_sp = None\n",
    "    app_sp_token = None"
   ]
  },
  {
   "cell_type": "markdown",
   "metadata": {
    "application/vnd.databricks.v1+cell": {
     "cellMetadata": {},
     "inputWidgets": {},
     "nuid": "38cbbbca-2fd5-46bb-8a23-3e497e21083c",
     "showTitle": false,
     "tableResultSettingsMap": {},
     "title": ""
    }
   },
   "source": [
    "## 2. Unity Catalog Setup - Create Tables Using Sample Data"
   ]
  },
  {
   "cell_type": "code",
   "execution_count": 0,
   "metadata": {
    "application/vnd.databricks.v1+cell": {
     "cellMetadata": {
      "byteLimit": 2048000,
      "implicitDf": true,
      "rowLimit": 10000
     },
     "inputWidgets": {},
     "nuid": "bc6a8ef1-b3b1-4e23-8ba6-2cc89bf70119",
     "showTitle": false,
     "tableResultSettingsMap": {},
     "title": ""
    }
   },
   "outputs": [],
   "source": [
    "%sql\n",
    "-- Use existing catalog and schema\n",
    "USE CATALOG ${catalog_name};\n",
    "USE SCHEMA ${schema_name};\n",
    "\n",
    "-- Show current context\n",
    "SELECT current_catalog(), current_schema();"
   ]
  },
  {
   "cell_type": "code",
   "execution_count": 0,
   "metadata": {
    "application/vnd.databricks.v1+cell": {
     "cellMetadata": {
      "byteLimit": 2048000,
      "implicitDf": true,
      "rowLimit": 10000
     },
     "inputWidgets": {},
     "nuid": "13c7bd3c-8a9e-45fe-b1b1-e743b0c5fffa",
     "showTitle": false,
     "tableResultSettingsMap": {},
     "title": ""
    }
   },
   "outputs": [],
   "source": [
    "\n",
    "%sql\n",
    "-- Create customers table using sample retail data\n",
    "-- We'll use the samples.tpch.customer table as a base and add regional data\n",
    "CREATE OR REPLACE TABLE ${catalog_name}.${schema_name}.customers AS\n",
    "SELECT \n",
    "    c_custkey as customer_id,\n",
    "    c_name as customer_name,\n",
    "    CONCAT(LOWER(REPLACE(c_name, ' ', '.')), '@example.com') as email,\n",
    "    c_phone as phone,\n",
    "    CASE \n",
    "        WHEN c_nationkey IN (1, 2, 3, 4, 5) THEN 'US-EAST'\n",
    "        WHEN c_nationkey IN (6, 7, 8, 9, 10) THEN 'US-WEST'\n",
    "        WHEN c_nationkey IN (11, 12, 13, 14, 15) THEN 'EU-WEST'\n",
    "        WHEN c_nationkey IN (16, 17, 18, 19, 20) THEN 'EU-EAST'\n",
    "        ELSE 'OTHER'\n",
    "    END as region,\n",
    "    n.n_name as country,\n",
    "    CASE c_mktsegment\n",
    "        WHEN 'BUILDING' THEN 'ENTERPRISE'\n",
    "        WHEN 'AUTOMOBILE' THEN 'PREMIUM'\n",
    "        WHEN 'MACHINERY' THEN 'STANDARD'\n",
    "        WHEN 'HOUSEHOLD' THEN 'BASIC'\n",
    "        ELSE 'STANDARD'\n",
    "    END as customer_segment,\n",
    "    DATE_SUB(current_date(), CAST(RAND() * 365 AS INT)) as created_date\n",
    "FROM samples.tpch.customer c\n",
    "JOIN samples.tpch.nation n ON c.c_nationkey = n.n_nationkey\n",
    "LIMIT 500;  -- Take first 500 customers for demo\n",
    "\n",
    "-- Show sample of customers table\n",
    "SELECT * FROM ${catalog_name}.${schema_name}.customers LIMIT 5;"
   ]
  },
  {
   "cell_type": "code",
   "execution_count": 0,
   "metadata": {
    "application/vnd.databricks.v1+cell": {
     "cellMetadata": {
      "byteLimit": 2048000,
      "implicitDf": true,
      "rowLimit": 10000
     },
     "inputWidgets": {},
     "nuid": "5a538afa-0ac2-4f29-8f9a-fdb847157036",
     "showTitle": false,
     "tableResultSettingsMap": {},
     "title": ""
    }
   },
   "outputs": [],
   "source": [
    "%sql\n",
    "-- Create orders table using sample retail orders data\n",
    "-- We'll use samples.tpch.orders and lineitem to create a denormalized orders table\n",
    "CREATE OR REPLACE TABLE ${catalog_name}.${schema_name}.orders AS\n",
    "WITH order_details AS (\n",
    "    SELECT \n",
    "        o.o_orderkey as order_id,\n",
    "        o.o_custkey as customer_id,\n",
    "        o.o_orderdate as order_date,\n",
    "        SUM(l.l_extendedprice * (1 - l.l_discount)) as order_amount,\n",
    "        CASE MOD(o.o_orderkey, 3)\n",
    "            WHEN 0 THEN 'Software'\n",
    "            WHEN 1 THEN 'Hardware'\n",
    "            ELSE 'Services'\n",
    "        END as product_category,\n",
    "        CONCAT('rep', MOD(o.o_orderkey, 10), '@company.com') as sales_rep,\n",
    "        CASE o.o_orderstatus\n",
    "            WHEN 'F' THEN 'COMPLETED'\n",
    "            WHEN 'O' THEN 'PENDING'\n",
    "            ELSE 'PROCESSING'\n",
    "        END as order_status\n",
    "    FROM samples.tpch.orders o\n",
    "    JOIN samples.tpch.lineitem l ON o.o_orderkey = l.l_orderkey\n",
    "    WHERE o.o_custkey IN (SELECT customer_id FROM ${catalog_name}.${schema_name}.customers)\n",
    "    GROUP BY o.o_orderkey, o.o_custkey, o.o_orderdate, o.o_orderstatus\n",
    "    LIMIT 1000  -- Take first 1000 orders for demo\n",
    ")\n",
    "SELECT \n",
    "    od.order_id,\n",
    "    od.customer_id,\n",
    "    od.order_date,\n",
    "    od.order_amount,\n",
    "    od.product_category,\n",
    "    od.sales_rep,\n",
    "    c.region,\n",
    "    c.country,\n",
    "    od.order_status\n",
    "FROM order_details od\n",
    "JOIN ${catalog_name}.${schema_name}.customers c ON od.customer_id = c.customer_id;\n",
    "\n",
    "-- Show sample of orders table\n",
    "SELECT * FROM ${catalog_name}.${schema_name}.orders LIMIT 5;"
   ]
  },
  {
   "cell_type": "code",
   "execution_count": 0,
   "metadata": {
    "application/vnd.databricks.v1+cell": {
     "cellMetadata": {
      "byteLimit": 2048000,
      "rowLimit": 10000
     },
     "inputWidgets": {},
     "nuid": "3c047f63-3236-42d1-94bc-244f79df14c3",
     "showTitle": false,
     "tableResultSettingsMap": {},
     "title": ""
    }
   },
   "outputs": [],
   "source": [
    "# Verify data distribution across regions\n",
    "display(spark.sql(f\"\"\"\n",
    "    SELECT \n",
    "        'customers' as table_name,\n",
    "        region,\n",
    "        COUNT(*) as record_count\n",
    "    FROM {catalog_name}.{schema_name}.customers\n",
    "    GROUP BY region\n",
    "    UNION ALL\n",
    "    SELECT \n",
    "        'orders' as table_name,\n",
    "        region,\n",
    "        COUNT(*) as record_count\n",
    "    FROM {catalog_name}.{schema_name}.orders\n",
    "    GROUP BY region\n",
    "    ORDER BY table_name, region\n",
    "\"\"\"))\n",
    "\n",
    "print(\"✅ Tables created successfully using Databricks sample datasets\")\n",
    "print(f\"   - Customers table: Based on samples.tpch.customer\")\n",
    "print(f\"   - Orders table: Based on samples.tpch.orders and lineitem\")\n",
    "print(f\"   - Data distributed across US-EAST, US-WEST, EU-EAST, EU-WEST regions\")"
   ]
  },
  {
   "cell_type": "markdown",
   "metadata": {
    "application/vnd.databricks.v1+cell": {
     "cellMetadata": {},
     "inputWidgets": {},
     "nuid": "cdbd5043-cbd2-4492-ad7b-7cd25360b50b",
     "showTitle": false,
     "tableResultSettingsMap": {},
     "title": ""
    }
   },
   "source": [
    "## 3. Service Principal and Group Management (Workspace-Scoped)"
   ]
  },
  {
   "cell_type": "code",
   "execution_count": 0,
   "metadata": {
    "application/vnd.databricks.v1+cell": {
     "cellMetadata": {
      "byteLimit": 2048000,
      "rowLimit": 10000
     },
     "inputWidgets": {},
     "nuid": "545794eb-5d48-4880-8f68-58dacc099aed",
     "showTitle": false,
     "tableResultSettingsMap": {},
     "title": ""
    }
   },
   "outputs": [],
   "source": [
    "from workspace_sp_manager import WorkspaceServicePrincipalManager\n",
    "\n",
    "sp_manager = WorkspaceServicePrincipalManager(workspace_url, pat_token, spark)\n",
    "print(\"✅ Workspace Service Principal Manager initialized\")"
   ]
  },
  {
   "cell_type": "code",
   "execution_count": 0,
   "metadata": {
    "application/vnd.databricks.v1+cell": {
     "cellMetadata": {
      "byteLimit": 2048000,
      "rowLimit": 10000
     },
     "inputWidgets": {},
     "nuid": "713182cb-9181-4247-b88a-55b5a2f40941",
     "showTitle": false,
     "tableResultSettingsMap": {},
     "title": ""
    }
   },
   "outputs": [],
   "source": [
    "# Create three service principals with different roles\n",
    "# Fixed names for service principals\n",
    "# app_sp_name = \"marcin_sp_app_orchestrator\"\n",
    "us_sp_name = \"marcin_sp_user_us_region\"\n",
    "eu_sp_name = \"marcin_sp_user_eu_region\"\n",
    "\n",
    "# Group names as variables\n",
    "us_group_name = \"marcin_us_region_access\"\n",
    "eu_group_name = \"marcin_eu_region_access\"\n",
    "app_group_name = \"marcin_job_orchestrators\"\n",
    "\n",
    "print(\"Creating or retrieving service principals...\")\n",
    "\n",
    "# Use the helper method to get or create service principals\n",
    "# app_sp = sp_manager.get_or_create_service_principal(\n",
    "#     app_sp_name, \n",
    "#     \"Job orchestration and management\"\n",
    "# )\n",
    "\n",
    "us_sp = sp_manager.get_or_create_service_principal(\n",
    "    us_sp_name,\n",
    "    \"US region data access only\"\n",
    ")\n",
    "\n",
    "eu_sp = sp_manager.get_or_create_service_principal(\n",
    "    eu_sp_name,\n",
    "    \"EU region data access only\"\n",
    ")"
   ]
  },
  {
   "cell_type": "code",
   "execution_count": 0,
   "metadata": {
    "application/vnd.databricks.v1+cell": {
     "cellMetadata": {
      "byteLimit": 2048000,
      "rowLimit": 10000
     },
     "inputWidgets": {},
     "nuid": "9fd41d6e-ed63-4e3a-bef2-5230940b5b6a",
     "showTitle": false,
     "tableResultSettingsMap": {},
     "title": ""
    }
   },
   "outputs": [],
   "source": [
    "## Manually assign the groups via the UI\n",
    "## @TODO: fix the below.\n",
    "\n",
    "# if us_sp and us_group:\n",
    "#     result = sp_manager.add_member_to_uc_group(us_group_name, us_sp)\n",
    "#     if result:\n",
    "#         print(f\"✅ Added {us_sp_name} to {us_group_name}\")\n",
    "#     else:\n",
    "#         print(f\"ℹ️  {us_sp_name} may already be in {us_group_name}\")\n",
    "\n",
    "# if eu_sp and eu_group:\n",
    "#     result = sp_manager.add_member_to_uc_group(eu_group_name, eu_sp)\n",
    "#     if result:\n",
    "#         print(f\"✅ Added {eu_sp_name} to {eu_group_name}\")\n",
    "#     else:\n",
    "#         print(f\"ℹ️  {eu_sp_name} may already be in {eu_group_name}\")\n",
    "\n",
    "# if app_sp and app_group:\n",
    "#     result = sp_manager.add_member_to_uc_group(app_group_name, app_sp)\n",
    "#     if result:\n",
    "#         print(f\"✅ Added {app_sp_name} to {app_group_name}\")\n",
    "#     else:\n",
    "#         print(f\"ℹ️  {app_sp_name} may already be in {app_group_name}\")"
   ]
  },
  {
   "cell_type": "markdown",
   "metadata": {
    "application/vnd.databricks.v1+cell": {
     "cellMetadata": {
      "byteLimit": 2048000,
      "rowLimit": 10000
     },
     "inputWidgets": {},
     "nuid": "34a48206-68d8-4e85-833f-31027de93bcc",
     "showTitle": false,
     "tableResultSettingsMap": {},
     "title": ""
    }
   },
   "source": [
    "## 4. Grant Least-Privilege Permissions to Groups"
   ]
  },
  {
   "cell_type": "code",
   "execution_count": 0,
   "metadata": {
    "application/vnd.databricks.v1+cell": {
     "cellMetadata": {
      "byteLimit": 2048000,
      "rowLimit": 10000
     },
     "inputWidgets": {},
     "nuid": "ded378e8-fc04-4bef-bde6-2b0b100b122b",
     "showTitle": false,
     "tableResultSettingsMap": {},
     "title": ""
    }
   },
   "outputs": [],
   "source": [
    "print(\"Granting least-privilege permissions to Unity Catalog groups...\")"
   ]
  },
  {
   "cell_type": "code",
   "execution_count": 0,
   "metadata": {
    "application/vnd.databricks.v1+cell": {
     "cellMetadata": {
      "byteLimit": 2048000,
      "rowLimit": 10000
     },
     "inputWidgets": {},
     "nuid": "73c9aefe-ccf7-47e6-a83c-7d367907a6ab",
     "showTitle": false,
     "tableResultSettingsMap": {},
     "title": ""
    }
   },
   "outputs": [],
   "source": [
    "# US region group - only SELECT on tables they need\n",
    "spark.sql(f\"GRANT USE CATALOG ON CATALOG {catalog_name} TO `{us_sp['applicationId']}`\")\n",
    "spark.sql(f\"GRANT USE SCHEMA ON SCHEMA {catalog_name}.{schema_name} TO `{us_sp['applicationId']}`\")\n",
    "spark.sql(f\"GRANT SELECT ON TABLE {catalog_name}.{schema_name}.customers TO `{us_sp['applicationId']}`\")\n",
    "spark.sql(f\"GRANT SELECT ON TABLE {catalog_name}.{schema_name}.orders TO `{us_sp['applicationId']}`\")\n",
    "\n",
    "# EU region group - only SELECT on customers table (demonstrating different access levels)\n",
    "spark.sql(f\"GRANT USE CATALOG ON CATALOG {catalog_name} TO `{eu_sp['applicationId']}`\")\n",
    "spark.sql(f\"GRANT USE SCHEMA ON SCHEMA {catalog_name}.{schema_name} TO `{eu_sp['applicationId']}`\")\n",
    "spark.sql(f\"GRANT SELECT ON TABLE {catalog_name}.{schema_name}.customers TO `{eu_sp['applicationId']}`\")\n",
    "# Note: EU group does NOT get access to orders table\n",
    "\n",
    "# Application orchestrator group - needs additional permissions for job management\n",
    "# but NO direct data access (principle of least privilege)\n",
    "spark.sql(f\"GRANT USE CATALOG ON CATALOG {catalog_name} TO `{app_sp['applicationId']}`\")\n",
    "spark.sql(f\"GRANT USE SCHEMA ON SCHEMA {catalog_name}.{schema_name} TO `{app_sp['applicationId']}`\")\n",
    "\n",
    "print(\"✅ Least-privilege permissions granted to Unity Catalog groups:\")\n",
    "print(f\"   - {us_group_name}: SELECT on customers and orders (filtered by RLS)\")\n",
    "print(f\"   - {eu_group_name}: SELECT on customers only (filtered by RLS)\")\n",
    "print(f\"   - {app_group_name}: Catalog/schema access only (for job creation, no data access)\")"
   ]
  },
  {
   "cell_type": "markdown",
   "metadata": {
    "application/vnd.databricks.v1+cell": {
     "cellMetadata": {
      "byteLimit": 2048000,
      "rowLimit": 10000
     },
     "inputWidgets": {},
     "nuid": "e99fed52-ee60-4562-9ff5-01538292743b",
     "showTitle": false,
     "tableResultSettingsMap": {},
     "title": ""
    }
   },
   "source": [
    "## 5. Implement Row-Level Security (RLS)"
   ]
  },
  {
   "cell_type": "code",
   "execution_count": 0,
   "metadata": {
    "application/vnd.databricks.v1+cell": {
     "cellMetadata": {
      "byteLimit": 2048000,
      "rowLimit": 10000
     },
     "inputWidgets": {},
     "nuid": "ba216bcb-2b1d-4aee-ab47-11efb149718e",
     "showTitle": false,
     "tableResultSettingsMap": {},
     "title": ""
    }
   },
   "outputs": [],
   "source": [
    "spark.sql(f\"\"\"\n",
    "    CREATE OR REPLACE FUNCTION {catalog_name}.{schema_name}.region_row_filter(region_value STRING)\n",
    "    RETURNS BOOLEAN\n",
    "    RETURN \n",
    "      CASE\n",
    "        WHEN IS_ACCOUNT_GROUP_MEMBER('{us_group_name}') THEN region_value IN ('US-EAST', 'US-WEST')\n",
    "        WHEN IS_ACCOUNT_GROUP_MEMBER('{eu_group_name}') THEN region_value IN ('EU-EAST', 'EU-WEST')\n",
    "        WHEN IS_ACCOUNT_GROUP_MEMBER('account users') THEN TRUE  -- Admin access\n",
    "        ELSE FALSE\n",
    "      END\n",
    "\"\"\")\n",
    "\n",
    "print(f\"✅ Created row filter function with groups: {us_group_name}, {eu_group_name}\")"
   ]
  },
  {
   "cell_type": "code",
   "execution_count": 0,
   "metadata": {
    "application/vnd.databricks.v1+cell": {
     "cellMetadata": {
      "byteLimit": 2048000,
      "implicitDf": true,
      "rowLimit": 10000
     },
     "inputWidgets": {},
     "nuid": "ae08029b-130b-47d8-b07a-f62b50ce02a8",
     "showTitle": false,
     "tableResultSettingsMap": {},
     "title": ""
    }
   },
   "outputs": [],
   "source": [
    "%sql\n",
    "-- Apply row filter to customers table\n",
    "ALTER TABLE ${catalog_name}.${schema_name}.customers \n",
    "SET ROW FILTER ${catalog_name}.${schema_name}.region_row_filter ON (region);\n",
    "\n",
    "-- Apply row filter to orders table\n",
    "ALTER TABLE ${catalog_name}.${schema_name}.orders \n",
    "SET ROW FILTER ${catalog_name}.${schema_name}.region_row_filter ON (region);"
   ]
  },
  {
   "cell_type": "markdown",
   "metadata": {
    "application/vnd.databricks.v1+cell": {
     "cellMetadata": {},
     "inputWidgets": {},
     "nuid": "1ce76cc7-29f0-41ed-a215-bd0d6c6c2876",
     "showTitle": false,
     "tableResultSettingsMap": {},
     "title": ""
    }
   },
   "source": [
    "## 6. Implement Column-Level Security (CLS)"
   ]
  },
  {
   "cell_type": "code",
   "execution_count": 0,
   "metadata": {
    "application/vnd.databricks.v1+cell": {
     "cellMetadata": {
      "byteLimit": 2048000,
      "rowLimit": 10000
     },
     "inputWidgets": {},
     "nuid": "c57dc73d-e6f7-4cbd-8506-b70c00e6a6e0",
     "showTitle": false,
     "tableResultSettingsMap": {},
     "title": ""
    }
   },
   "outputs": [],
   "source": [
    "# Create column masking functions using Python variables for group names\n",
    "spark.sql(f\"\"\"\n",
    "    CREATE OR REPLACE FUNCTION {catalog_name}.{schema_name}.mask_email(email STRING)\n",
    "    RETURNS STRING\n",
    "    RETURN \n",
    "      CASE \n",
    "        WHEN IS_ACCOUNT_GROUP_MEMBER('account users') THEN email\n",
    "        WHEN IS_ACCOUNT_GROUP_MEMBER('{us_group_name}') OR IS_ACCOUNT_GROUP_MEMBER('{eu_group_name}') \n",
    "          THEN CONCAT(SUBSTRING(email, 1, 3), '***@***', SUBSTRING(email, INSTR(email, '.'), LENGTH(email)))\n",
    "        ELSE '***@***.***'\n",
    "      END\n",
    "\"\"\")\n",
    "\n",
    "spark.sql(f\"\"\"\n",
    "    CREATE OR REPLACE FUNCTION {catalog_name}.{schema_name}.mask_phone(phone STRING)\n",
    "    RETURNS STRING\n",
    "    RETURN \n",
    "      CASE\n",
    "        WHEN IS_ACCOUNT_GROUP_MEMBER('account users') THEN phone\n",
    "        ELSE CONCAT('***-', SUBSTRING(phone, LENGTH(phone) - 3, 4))\n",
    "      END\n",
    "\"\"\")\n",
    "\n",
    "print(f\"✅ Created column masking functions with groups: {us_group_name}, {eu_group_name}\")"
   ]
  },
  {
   "cell_type": "code",
   "execution_count": 0,
   "metadata": {
    "application/vnd.databricks.v1+cell": {
     "cellMetadata": {
      "byteLimit": 2048000,
      "implicitDf": true,
      "rowLimit": 10000
     },
     "inputWidgets": {},
     "nuid": "7b8ae5a7-d1e8-4c9a-b356-d0fbe5e3aa8e",
     "showTitle": false,
     "tableResultSettingsMap": {},
     "title": ""
    }
   },
   "outputs": [],
   "source": [
    "%sql\n",
    "-- Apply column masks\n",
    "ALTER TABLE ${catalog_name}.${schema_name}.customers \n",
    "ALTER COLUMN email SET MASK ${catalog_name}.${schema_name}.mask_email;\n",
    "\n",
    "ALTER TABLE ${catalog_name}.${schema_name}.customers \n",
    "ALTER COLUMN phone SET MASK ${catalog_name}.${schema_name}.mask_phone;"
   ]
  },
  {
   "cell_type": "markdown",
   "metadata": {
    "application/vnd.databricks.v1+cell": {
     "cellMetadata": {},
     "inputWidgets": {},
     "nuid": "dbcd3620-84dc-46bf-ad27-5801b62eef72",
     "showTitle": false,
     "tableResultSettingsMap": {},
     "title": ""
    }
   },
   "source": [
    "## 7. Create Jobs with Application SP Managing User SP Execution\n",
    "\n",
    "make sure to give service principal user permission."
   ]
  },
  {
   "cell_type": "code",
   "execution_count": 0,
   "metadata": {
    "application/vnd.databricks.v1+cell": {
     "cellMetadata": {
      "byteLimit": 2048000,
      "rowLimit": 10000
     },
     "inputWidgets": {},
     "nuid": "bbe4aa38-088a-4e3e-984b-01ad933ff211",
     "showTitle": false,
     "tableResultSettingsMap": {},
     "title": ""
    }
   },
   "outputs": [],
   "source": [
    "from job_manager import ServerlessJobManager\n",
    "\n",
    "job_manager = ServerlessJobManager(workspace_url, app_sp_token) #use pat_token for local user.\n",
    "\n",
    "print(\"✅ Serverless Job Manager initialized\")"
   ]
  },
  {
   "cell_type": "code",
   "execution_count": 0,
   "metadata": {
    "application/vnd.databricks.v1+cell": {
     "cellMetadata": {
      "byteLimit": 2048000,
      "rowLimit": 10000
     },
     "inputWidgets": {},
     "nuid": "69a6a746-2c46-4bab-aecc-18250661ff8e",
     "showTitle": false,
     "tableResultSettingsMap": {},
     "title": ""
    }
   },
   "outputs": [],
   "source": [
    "notebook_path = \"/Workspace/Users/marcin.jimenez@databricks.com/dbx-multi-user-extract/notebooks/process_regional_data\"\n",
    "\n",
    "print(f\"📝 Creating serverless jobs with notebook: {notebook_path}\")\n",
    "print(\"   Note: Ensure this notebook exists in your workspace\\n\")\n",
    "\n",
    "jobs_created = []\n",
    "creation_context = f\"Entra ID SP ({app_sp['displayName']})\""
   ]
  },
  {
   "cell_type": "code",
   "execution_count": 0,
   "metadata": {
    "application/vnd.databricks.v1+cell": {
     "cellMetadata": {
      "byteLimit": 2048000,
      "rowLimit": 10000
     },
     "inputWidgets": {},
     "nuid": "daad9607-ddf8-44f8-83db-c1153b14e46e",
     "showTitle": false,
     "tableResultSettingsMap": {},
     "title": ""
    }
   },
   "outputs": [],
   "source": [
    "print(\"\\n🔧 Processing US Region job...\")\n",
    "print(f\"   Creator: {creation_context}\")\n",
    "print(f\"   Run as: {us_sp['displayName']}\")\n",
    "\n",
    "try:\n",
    "    us_job = job_manager.create_or_get_serverless_job(\n",
    "        job_name=\"Marcin_US_Processing\",\n",
    "        notebook_path=notebook_path,\n",
    "        catalog=catalog_name,\n",
    "        schema=schema_name,\n",
    "        run_as_sp_id=us_sp['applicationId'],\n",
    "        description=f\"US region processing - Created by {creation_context}, runs as {us_sp_name}\"\n",
    "    )\n",
    "    \n",
    "    if us_job:\n",
    "        # Grant App SP management permission\n",
    "        if app_sp:\n",
    "            try:\n",
    "                job_manager.grant_permission(\n",
    "                    us_job['job_id'],\n",
    "                    app_sp['applicationId'],\n",
    "                    \"CAN_MANAGE\"\n",
    "                )\n",
    "                print(f\"   ✅ Granted CAN_MANAGE to {app_sp.get('displayName')}\")\n",
    "            except:\n",
    "                pass\n",
    "        \n",
    "        jobs_created.append({\n",
    "            'job_id': us_job['job_id'],\n",
    "            'name': \"Marcin_US_Processing\",\n",
    "            'created_by': creation_context,\n",
    "            'run_as': us_sp['displayName']\n",
    "        })\n",
    "        \n",
    "        print(f\"✅ US job ready: ID {us_job['job_id']}\")\n",
    "except Exception as e:\n",
    "    print(f\"❌ Failed to create job: {e}\")"
   ]
  },
  {
   "cell_type": "code",
   "execution_count": 0,
   "metadata": {
    "application/vnd.databricks.v1+cell": {
     "cellMetadata": {},
     "inputWidgets": {},
     "nuid": "b8190b9b-7f48-4bc1-aa7d-d8c4a587c409",
     "showTitle": false,
     "tableResultSettingsMap": {},
     "title": ""
    }
   },
   "outputs": [],
   "source": []
  }
 ],
 "metadata": {
  "application/vnd.databricks.v1+notebook": {
   "computePreferences": {
    "hardware": {
     "accelerator": null,
     "gpuPoolId": null,
     "memory": null
    }
   },
   "dashboards": [],
   "environmentMetadata": {
    "base_environment": "",
    "environment_version": "2"
   },
   "inputWidgetPreferences": null,
   "language": "python",
   "notebookMetadata": {
    "mostRecentlyExecutedCommandWithImplicitDF": {
     "commandId": 6397979369266650,
     "dataframes": [
      "_sqldf"
     ]
    },
    "pythonIndentUnit": 2
   },
   "notebookName": "orchestration",
   "widgets": {
    "app_sp_client_id": {
     "currentValue": "",
     "nuid": "4319c8c5-3023-47d0-af94-4b523eac7ee8",
     "typedWidgetInfo": {
      "autoCreated": false,
      "defaultValue": "",
      "label": "Entra ID App Client ID",
      "name": "app_sp_client_id",
      "options": {
       "widgetDisplayType": "Text",
       "validationRegex": null
      },
      "parameterDataType": "String"
     },
     "widgetInfo": {
      "widgetType": "text",
      "defaultValue": "",
      "label": "Entra ID App Client ID",
      "name": "app_sp_client_id",
      "options": {
       "widgetType": "text",
       "autoCreated": null,
       "validationRegex": null
      }
     }
    },
    "app_sp_client_secret": {
     "currentValue": "",
     "nuid": "c2f265ac-4e5a-4202-ac2f-ef47505306f8",
     "typedWidgetInfo": {
      "autoCreated": false,
      "defaultValue": "",
      "label": "Entra ID App Client Secret",
      "name": "app_sp_client_secret",
      "options": {
       "widgetDisplayType": "Text",
       "validationRegex": null
      },
      "parameterDataType": "String"
     },
     "widgetInfo": {
      "widgetType": "text",
      "defaultValue": "",
      "label": "Entra ID App Client Secret",
      "name": "app_sp_client_secret",
      "options": {
       "widgetType": "text",
       "autoCreated": null,
       "validationRegex": null
      }
     }
    },
    "app_sp_display_name": {
     "currentValue": "",
     "nuid": "7ef66e79-fdaf-40bf-95e4-900445335621",
     "typedWidgetInfo": {
      "autoCreated": false,
      "defaultValue": "marcin-sp-app-orchestrator",
      "label": "App SP Display Name",
      "name": "app_sp_display_name",
      "options": {
       "widgetDisplayType": "Text",
       "validationRegex": null
      },
      "parameterDataType": "String"
     },
     "widgetInfo": {
      "widgetType": "text",
      "defaultValue": "marcin-sp-app-orchestrator",
      "label": "App SP Display Name",
      "name": "app_sp_display_name",
      "options": {
       "widgetType": "text",
       "autoCreated": null,
       "validationRegex": null
      }
     }
    },
    "app_sp_tenant_id": {
     "currentValue": "",
     "nuid": "40d5040c-3c89-4d68-a83c-8b27435c44e5",
     "typedWidgetInfo": {
      "autoCreated": false,
      "defaultValue": "",
      "label": "Azure Tenant ID",
      "name": "app_sp_tenant_id",
      "options": {
       "widgetDisplayType": "Text",
       "validationRegex": null
      },
      "parameterDataType": "String"
     },
     "widgetInfo": {
      "widgetType": "text",
      "defaultValue": "",
      "label": "Azure Tenant ID",
      "name": "app_sp_tenant_id",
      "options": {
       "widgetType": "text",
       "autoCreated": null,
       "validationRegex": null
      }
     }
    },
    "catalog_name": {
     "currentValue": "",
     "nuid": "cace8828-f7c0-4aa4-82f5-bdef69950d69",
     "typedWidgetInfo": {
      "autoCreated": false,
      "defaultValue": "security_demo",
      "label": "Catalog Name",
      "name": "catalog_name",
      "options": {
       "widgetDisplayType": "Text",
       "validationRegex": null
      },
      "parameterDataType": "String"
     },
     "widgetInfo": {
      "widgetType": "text",
      "defaultValue": "security_demo",
      "label": "Catalog Name",
      "name": "catalog_name",
      "options": {
       "widgetType": "text",
       "autoCreated": null,
       "validationRegex": null
      }
     }
    },
    "pat_token": {
     "currentValue": "",
     "nuid": "0924e774-671d-490d-a02c-b83e9f41a5e7",
     "typedWidgetInfo": {
      "autoCreated": false,
      "defaultValue": "",
      "label": "Personal Access Token",
      "name": "pat_token",
      "options": {
       "widgetDisplayType": "Text",
       "validationRegex": null
      },
      "parameterDataType": "String"
     },
     "widgetInfo": {
      "widgetType": "text",
      "defaultValue": "",
      "label": "Personal Access Token",
      "name": "pat_token",
      "options": {
       "widgetType": "text",
       "autoCreated": null,
       "validationRegex": null
      }
     }
    },
    "schema_name": {
     "currentValue": "",
     "nuid": "226ae25a-d6c2-423b-85ab-326ec53b4d65",
     "typedWidgetInfo": {
      "autoCreated": false,
      "defaultValue": "orders_data",
      "label": "Schema Name",
      "name": "schema_name",
      "options": {
       "widgetDisplayType": "Text",
       "validationRegex": null
      },
      "parameterDataType": "String"
     },
     "widgetInfo": {
      "widgetType": "text",
      "defaultValue": "orders_data",
      "label": "Schema Name",
      "name": "schema_name",
      "options": {
       "widgetType": "text",
       "autoCreated": null,
       "validationRegex": null
      }
     }
    }
   }
  },
  "language_info": {
   "name": "python"
  }
 },
 "nbformat": 4,
 "nbformat_minor": 0
}
